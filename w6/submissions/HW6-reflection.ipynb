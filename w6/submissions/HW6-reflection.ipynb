{
 "cells": [
  {
   "cell_type": "code",
   "execution_count": 3,
   "metadata": {},
   "outputs": [],
   "source": [
    "from pylab import *\n",
    "import numpy as np"
   ]
  },
  {
   "cell_type": "markdown",
   "metadata": {},
   "source": [
    "# Homework 6 Reflection:"
   ]
  },
  {
   "cell_type": "markdown",
   "metadata": {},
   "source": [
    "## Part I\n",
    "\n",
    "#### part a) Deriving $M_{*}(t)$ and $R_c(t)$. \n",
    "\n",
    "For part a, we derived the mass accretion $M_{*}(t)$ and the centrifugal radius $R_c(t)$ as functions of time for a protostellar core. Using the given infall rate $\\dot{M} = \\frac{m_0 c_s^3}{G}$, where \\( m_0 \\) is a dimensionless constant and \\( c_s \\) is the isothermal sound speed.\n",
    "\n",
    "1. **Mass Accretion \\( M_*(t) \\)**:\n",
    "   \\[\n",
    "   M_*(t) = \\int_0^t \\dot{M} \\, dt = \\frac{m_0 c_s^3 t}{G}\n",
    "   \\]\n",
    "\n",
    "2. **Centrifugal Radius \\( R_c(t) \\)**:\n",
    "   \\[\n",
    "   R_c(t) = \\frac{j^2}{G M_*} \\quad \\text{where} \\quad j = r_i^2 \\Omega_i\n",
    "   \\]\n",
    "   Substituting the expressions for \\( r_i(t) \\) and \\( M_*(t) \\):\n",
    "   \\[\n",
    "   R_c(t) = \\frac{m_0^3 c_s^3 \\Omega_i^2 t^3}{16}\n",
    "   \\]\n",
    "\n",
    "#### part b) Break-up Angular Velocity\n",
    "\n",
    "For part b, we derived the break-up angular velocity for a rotating protostellar core. By equating the gravitational energy and the rotational energy, we obtained:\n",
    "\\[\n",
    "\\Omega_b = \\sqrt{\\frac{3 G M}{R^3}}\n",
    "\\]\n",
    "The break-up angular velocity was then calculated for a 1 solar mass core of 0.1 pc in size by using the function Omega_break and gave the answer \n",
    "\\[\n",
    "\\Omega_b \\approx 1.156 \\times 10^{-13} \\text{ rad/s}\n",
    "\\]\n",
    "\n",
    "#### part c) Plotting \\( R_c(t) \\)\n",
    "\n",
    "We plotted \\( R_c(t) \\) for \\( c_s = 0.2 \\) km/s and \\( \\Omega_i = 2 \\times 10^{-14} \\) rad/s over 500 kyr. The input angular velocity was found to be almost 20% of the break-up rotation. The disk size at \\( t = 500 \\) kyr is about 100 AU, and the mass infall over this period is approximately 0.92 \\( M_\\odot \\).\n",
    "\n",
    "\n",
    "\n",
    "#### part d) Generalized Angular Velocity\n",
    "\n",
    "For part d, we derived the corresponding \\( \\Omega_i \\) and \\( R_c(t) \\) assuming a turbulent sub-sonic eddy following Larson's law, \\( v_{rot} \\propto R^{-0.33} \\).\n",
    "\\[\n",
    "\\Omega_i = \\Omega_s \\left(\\frac{r_i(t)}{r_s}\\right)^{-1.33}\n",
    "\\]\n",
    "\\[\n",
    "R_c(t) = \\frac{m_0^3 c_s \\Omega_s^2}{16} \\left(\\frac{r_i(t)}{r_s}\\right)^{-2p} t^3\n",
    "\\]\n",
    "\n",
    "#### part e) Comparing Uniform and Turbulent \\( \\Omega_i \\)\n",
    "\n",
    "For part e, we plotted \\( R_c(t) \\) for both uniform and turbulent cases and found that both models showed the same \\( R_c \\) at 500 kyr. The differences between both models is that the turbulent model deposits more mass at larger radii earlier compared to the uniform model, resulting in a flatter disk profile.\n",
    "\n",
    "## Part II: Menu (Surface Density Profiles) \n",
    "\n",
    "Using the calculated \\( R_c(t) \\) and the surface density profile \\( \\Sigma(t) \\) from Cassen & Moosman (1981), we integrated through time to calculate the surface density profiles for the two cases in Part I d. The differences in the resulting disk profiles were as follows:\n",
    "\n",
    "1. **Uniform \\( \\Omega_i \\)**: The surface density profile is more concentrated towards the center.\n",
    "2. **Turbulent \\( \\Omega_i \\)**: The surface density profile is more spread out, leading to a flatter disk.\n",
    "\n",
    "#### Overall Reflection\n",
    "This assignment provided an understanding of angular momentum conservation in disk formation around protostars. The calculations and plots highlighted the importance of initial conditions on the resulting disk structure. The comparison between uniform and turbulent angular velocity models showed how different assumptions can significantly impact the mass distribution within the disk. This exercise emphasizes the complexity of physical processes and the necessity for detailed modeling to understand the formation and evolution of protostellar disks.\n"
   ]
  },
  {
   "cell_type": "markdown",
   "metadata": {},
   "source": [
    "# Homework 6: Angular Momentum\n",
    "\n",
    "## Part I\n",
    "The centrifugal radius: $R_c = \\frac{j^2}{GM_*}$ tells us how angular momentum determines the radius at which material is deposited at during infall into disk formation. \n",
    "If we assume angular momentum conservation from the envelope down to the disk scales, we know that over time each infalling layer, i,  at a radius of $r_i$ has specific angular momentum $j_i = r_i^2 \\Omega_i$."
   ]
  },
  {
   "cell_type": "markdown",
   "metadata": {},
   "source": [
    "### part a:\n",
    "In the TSC model, for $\\dot{M} = \\frac{m_0 c_s^3}{G}$, each layer falls from a radius corresponding to a time $r_i = (m_0/2) c_s t$ where $m_0 = 0.975$, a dimensionless constant and $c_s$ is the isothermal sound speed. \n",
    "For this model, derive $M_{*}(t)$ and $R_c(t)$. \n",
    "\n",
    "We start with $M(t) = \\int_0^t \\dot{M} dt = m_0 c_s^3 t / G$  \n",
    "    \n",
    "$R_c = j^2/GM_*$, where  $j = r_i^2 \\Omega_i$, plugging in for the given expression for $r_i(t)$ and what we solved for $M(t)$:  \n",
    "    $R_c(t) = \\frac{m_0^3 c_s \\Omega_i^2}{16} t^3$\n"
   ]
  },
  {
   "cell_type": "markdown",
   "metadata": {},
   "source": [
    "### part b:\n",
    "The break-up angular velocity of a rotating body is defined as where the gravitational energy is equal to the rotational energy. Above this value, the body would be torn apart by rotation as gravity would not be able to hold it together. \n",
    "Derive the break-up velocity for a protostellar core and calculate it in radians per second for a 1 solar mass core of about 0.1 pc in size. \n",
    "\n",
    "The rotational energy is given by:\n",
    "    $1/2 I \\omega^2$ for the moment of inertia $I$ of a uniform sphere:\n",
    "    $I = 2/5 m R^2$\n",
    "    \n",
    "As usual, gravitational energy for a uniform sphere is given by:\n",
    "    $3/5 GMm/R$\n",
    "    \n",
    "Equating the two we can solve for the break up angular velocity:\n",
    "    $\\Omega_{b} = \\sqrt{3GM/R^3}$\n"
   ]
  },
  {
   "cell_type": "code",
   "execution_count": 6,
   "metadata": {},
   "outputs": [
    {
     "name": "stdout",
     "output_type": "stream",
     "text": [
      "1.156132318915352e-13\n"
     ]
    }
   ],
   "source": [
    "G = 6.67e-8\n",
    "Msun = 1.99e33\n",
    "pctocm = 3.1e18\n",
    "\n",
    "def Omega_break(m, r):\n",
    "    M = m*Msun\n",
    "    R = r*pctocm\n",
    "    return np.sqrt(3 * G* M/R/R/R)\n",
    "\n",
    "print(Omega_break(1,0.1))"
   ]
  },
  {
   "cell_type": "markdown",
   "metadata": {},
   "source": [
    "### part c:\n",
    "Plot $Rc(t)$ for $c_s = 0.2 \\ \\mathrm{km \\ s^{-1}}$ and $\\Omega_i = 2 \\times 10^{-14} \\mathrm{rad \\ s^{-1}}$ for t between 0 and 500 kyr. How fast is the input angular velocity compared to break up? What is the resulting disk size at t=500 kyr? How much mass would have infallen in that time span?\n",
    "\n",
    "The input angular frequency is almost 20% of the breakup rotation. \n",
    "    The mass added would be roughly \n",
    "    $0.92 M_{\\odot}$.\n",
    "    The disk size is about 100 au. "
   ]
  },
  {
   "cell_type": "code",
   "execution_count": 9,
   "metadata": {},
   "outputs": [
    {
     "name": "stdout",
     "output_type": "stream",
     "text": [
      "0.9226040246208556\n"
     ]
    }
   ],
   "source": [
    "kmtocm = 10**5\n",
    "yrtos = 3.14e7\n",
    "def M(t,cs=0.2):\n",
    "    return 0.975 * (cs*kmtocm)**3 * t*yrtos / G / Msun\n",
    "\n",
    "print(M(500000))"
   ]
  },
  {
   "cell_type": "markdown",
   "metadata": {},
   "source": [
    "### part d:\n",
    "So far we have only been assuming that $\\Omega_i$ is constant solid body rotation, but in principle $\\Omega_i(r)$ could be a function of radius within the protostellar core. For instance, if we take the scaling of an turbulent sub-sonic eddy as in Larson's law, $v_{rot} \\propto R^{-0.33}$. Solve for the corresponding $\\Omega_i(r)$ and $Rc(t)$ with this more generalized behavior. \n",
    "\n",
    "$\\Omega = \\Omega_s (r/r_s)^{p}$, for $v \\propto R^{-0.33}$, we know that $\\Omega = v/R$, such that:  \n",
    "    $\\Omega_i = \\Omega_s (r_i(t)/r_s)^{-1.33}$\n",
    "It follows that our prevous expression can now be expanded by plugging for $\\Omega_i$, such that:    \n",
    "    $R_c(t) = \\frac{m_0^3 c_s \\Omega_s^2}{16} \\left(\\frac{r_i(t)}{r_s}\\right)^{-2p} t^3$ \n"
   ]
  },
  {
   "cell_type": "markdown",
   "metadata": {},
   "source": [
    "### part e:\n",
    "Let's say that the angular velocity has the form: $\\Omega_s \\left( \\frac{r}{r_s}\\right)^{p}$. Where $\\Omega_s =  2 \\times 10^{-14} \\mathrm{rad \\ s^{-1}}$ at $r_s = 0.05 \\ \\mathrm{pc}$ (to match measured values from observations at the same scale). Plot $Rc(t)$ for both the  uniform $\\Omega_i$ and the turbulent $\\Omega_i$ case on the same plot, assuming the power-law form above. When do both models have the same $R_c$? \n",
    "\n",
    "Based on what you know about mass deposition during disk formation, qualitatively, what would be the difference betweeen the disks formed under these two assumptions?\n",
    "Both models actually have the same $R_c$ at 500 kyr, as that is time when the layer from $r_s$ finally falls onto the disk (when $r_i(t) = r_s$). \n",
    "    Demonstrated in the menu section, but you can see from the plot below, that turbulent deposition goes out to larger radii much sooner than the uniform case, meaning more mass is deposited further out, producing an overall flatter disk profile. \n"
   ]
  },
  {
   "cell_type": "code",
   "execution_count": 14,
   "metadata": {},
   "outputs": [
    {
     "data": {
      "text/plain": [
       "<matplotlib.legend.Legend at 0x7fbd93bba160>"
      ]
     },
     "execution_count": 14,
     "metadata": {},
     "output_type": "execute_result"
    },
    {
     "data": {
      "image/png": "[encoded data removed]",
      "text/plain": [
       "<Figure size 600x400 with 1 Axes>"
      ]
     },
     "metadata": {
      "needs_background": "light"
     },
     "output_type": "display_data"
    }
   ],
   "source": [
    "au = 1.469e13 \n",
    "yrtos = 3.14e7\n",
    "kmtocm = 10**5\n",
    "pctocm = 3.1e18\n",
    "\n",
    "t = np.logspace(0,5.75,200)\n",
    "def Rc(t, cs=0.2, omega_s=2.0e-14,p=0, r_s=0.05):\n",
    "    \"\"\"\n",
    "    t in yr\n",
    "    cs in km/s\n",
    "    omega_0 in rad/s\n",
    "    r_s in pc\n",
    "    \"\"\"\n",
    "    m0 = 0.975\n",
    "\n",
    "    Rc0 = (m0**3 * (cs*kmtocm) * (t*yrtos)**3 * omega_s**2)/16\n",
    "    Rc_s = (0.5*m0 * (cs*kmtocm) * (t*yrtos) /r_s/pctocm)**(-2*p)\n",
    "    ts = 2*r_s*pctocm/m0/cs/kmtocm\n",
    "    return Rc0*Rc_s\n",
    "\n",
    "f,ax = subplots(1,dpi=100)\n",
    "semilogy(t/1000, Rc(t)/au,color='black',label='uniform')\n",
    "semilogy(t/1000, Rc(t,p=1.33)/au,color='maroon',label='turb.')\n",
    "xlabel('t [kyr]')\n",
    "ylabel('Rc [au]')\n",
    "ylim(1e-2,)\n",
    "legend()"
   ]
  },
  {
   "cell_type": "markdown",
   "metadata": {},
   "source": [
    "## Part II: *Menu* \n",
    "\n",
    "For additional menu points this week, use the $Rc(t)$ you calculated above, and the $\\dot{\\Sigma}(r,t)$ profile from Cassen+Moosman 1981 to numerically integrate through time to calculate $\\Sigma(t)$ for the two cases in part d. (This gives us a very rough understanding of the resulting disk as it does not take into account angular momentum transport during this phase). Plot the resulting surface density profiles and comment on their differences. \n",
    "\n",
    "*Hint*: You may want your timesteps to be logarithmically spaced"
   ]
  },
  {
   "cell_type": "code",
   "execution_count": 17,
   "metadata": {},
   "outputs": [
    {
     "name": "stderr",
     "output_type": "stream",
     "text": [
      "<ipython-input-17-a6e1ab6e001c>:8: RuntimeWarning: invalid value encountered in sqrt\n",
      "  annulus = Min/(4.*pi*r*Rc*au*au)/np.sqrt(1-(r/Rc))\n",
      "<ipython-input-17-a6e1ab6e001c>:8: RuntimeWarning: invalid value encountered in sqrt\n",
      "  annulus = Min/(4.*pi*r*Rc*au*au)/np.sqrt(1-(r/Rc))\n"
     ]
    },
    {
     "data": {
      "text/plain": [
       "<matplotlib.legend.Legend at 0x7f8014b0bc10>"
      ]
     },
     "execution_count": 17,
     "metadata": {},
     "output_type": "execute_result"
    },
    {
     "data": {
      "image/png": "[encoded data removed]",
      "text/plain": [
       "<Figure size 432x288 with 1 Axes>"
      ]
     },
     "metadata": {
      "needs_background": "light"
     },
     "output_type": "display_data"
    }
   ],
   "source": [
    "from scipy.ndimage import uniform_filter1d\n",
    "r = np.logspace(-1,3,50)\n",
    "def sig_in(r,Rc,cs=0.2):\n",
    "    Min = 0.975*(cs*kmtocm)**3/6.67e-8\n",
    "    sig_infall = np.zeros_like(r)\n",
    "    if Rc > np.amin(r):\n",
    "        annulus = Min/(4.*pi*r*Rc*au*au)/np.sqrt(1-(r/Rc))\n",
    "        sig_infall[r<Rc] = annulus[r<Rc]\n",
    "    sig_infall = uniform_filter1d(sig_infall,size=5)\n",
    "    return sig_infall \n",
    "\n",
    "t = np.logspace(0,5,200)\n",
    "timesteps = np.diff(t)\n",
    "for p, c in zip([0,1.33],['black','maroon']):\n",
    "    sig = np.zeros_like(r)\n",
    "    for dt,tval in zip(timesteps,t):\n",
    "        rc_val = Rc(tval,p=p)/au\n",
    "        sig_add = sig_in(r, rc_val)*dt*yrtos\n",
    "        sig += sig_add\n",
    "    loglog(r, sig,'.-',color=c)\n",
    "\n",
    "ylim(1,)\n",
    "\n",
    "\n",
    "loglog(r, 5e5*(r**-2),color='gray',ls='dashed',label=r'$r^{-2}$')\n",
    "loglog(r, 1e4*(r**-1),color='gray',ls='dotted',label=r'$r^{-1}$')\n",
    "\n",
    "xlabel('r [au]')\n",
    "ylabel(r'$\\Sigma \\ \\mathrm{[g cm^{-2}]}$')\n",
    "legend()"
   ]
  }
 ],
 "metadata": {
  "kernelspec": {
   "display_name": "Python 3",
   "language": "python",
   "name": "python3"
  },
  "language_info": {
   "codemirror_mode": {
    "name": "ipython",
    "version": 3
   },
   "file_extension": ".py",
   "mimetype": "text/x-python",
   "name": "python",
   "nbconvert_exporter": "python",
   "pygments_lexer": "ipython3",
   "version": "3.8.3"
  }
 },
 "nbformat": 4,
 "nbformat_minor": 4
}
