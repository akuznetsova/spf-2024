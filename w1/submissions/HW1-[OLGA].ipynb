{
 "cells": [
  {
   "cell_type": "code",
   "execution_count": 1,
   "metadata": {},
   "outputs": [],
   "source": [
    "import numpy as np\n",
    "from pylab import *"
   ]
  },
  {
   "cell_type": "code",
   "execution_count": 2,
   "metadata": {},
   "outputs": [],
   "source": [
    "import sympy as sympy\n",
    "#x = sympy.symbols('x')"
   ]
  },
  {
   "cell_type": "markdown",
   "metadata": {},
   "source": [
    "# Homework 1: Dust Models for the ISM\n",
    "In this assignment, we're going to create dust models for the bulk interstellar medium. \n",
    "Over the course of this assignment, we'll build up our dust model in terms of:\n",
    "1. the size distribution: most generally defined in terms of the number of particles of size $a$ per size bin $da$ distributed between the minimum dust size, $a_{min}$ and the maximum dust size $a_{max}$ in a power-law of the form: $n(a) \\propto a^{-p} da$\n",
    "\n",
    "2. the properties of the dust grains: determined by the composition and assumed physical structure of the dust (ranging from perfect sphere to fluffy aggregate) which determines the optical properties and material density of grains \n",
    "\n",
    "As you work through the parts of each question, you can write the code in the cell underneath each part and any written responses can be added in corresponding markdown cells (like this one). For this first assignment, I have provided some scaffolding on the coding end meant to get you started and demonstrate some ways you can go about formatting your solutions. You are welcome to amend any of the provided code or not use any of it at all, as long as your solutions address each question in full. "
   ]
  },
  {
   "cell_type": "markdown",
   "metadata": {},
   "source": [
    "## I. Size Distribution\n",
    "### part a. \n",
    "Write a python function to calculate a normalized distribution of dust sizes $n(a) da$ for a given input dust size $a$ given $a_{min}$, $a_{max}$, $p$ and total number density of dust $n_{d}$ across all sizes.\n",
    "\n",
    "Recall that: \n",
    "\n",
    "$n_d = \\int_{a_{min}}^{a_{max}} n_0 (a/a_{min})^{-p} da$\n",
    "\n",
    "Using your function, calculate $n(a)da$ vs. $a$ for a set of fiducial ISM values:\n",
    "\n",
    "$a_{min} = 0.005 \\mu m, \\\\\n",
    "a_{max} = 1 \\mu m, \\\\\n",
    "p=3.5$\n",
    "\n",
    "assuming a total number density $n_d = 1 cm^{-3}$, where $a$ should be an array of sizes from $a_{min}$ to $a_{max}$. \n",
    "Check your function by taking a numerical integral of the ism distribution you calculated using some form of numerical integration like `numpy.trapz`. The value of your numerical integral over the array of size bins should approximately equal $n_d$. How does the error in this integral depend on the number of points in your $a$ array? Is it better or worse if $a$ is logarithmically or linearly spaced?\n",
    "\n",
    "\n"
   ]
  },
  {
   "cell_type": "code",
   "execution_count": 52,
   "metadata": {},
   "outputs": [
    {
     "name": "stdout",
     "output_type": "stream",
     "text": [
      "1.0 1.00093044542309\n"
     ]
    }
   ],
   "source": [
    "# calculate n_ism for ISM parameters\n",
    "amin = 0.005\n",
    "amax = 1.0\n",
    "p = 3.5\n",
    "n_d = 1.0\n",
    "\n",
    "# size bins from amin to amax\n",
    "n_bins = 200 #number of bins in a_bins\n",
    "# a_bins = #array of sizes to compute n(a)da over\n",
    "a_bins = np.logspace(np.log10(amin),np.log(amax),n_bins)\n",
    "\n",
    "def n_(a_bins,amin=0.005,amax=1,p=3.5,n_d=10):\n",
    "    \"\"\" function to return a normalized size distribution across a set of bins,\n",
    "    a_bins: an array of sizes from amin to amax \n",
    "    with given\n",
    "    amin: minimum a \n",
    "    amax: maximum a \n",
    "    p: power-law index\n",
    "    n_d: total number density \"\"\"\n",
    "    #a_bins = np.logspace(np.log10(amin),np.log(amax),1000)\n",
    "    #a_bins /= amin #tells Python to take every item in bins and divide amin\n",
    "    #(print(size(a_bins)))\n",
    "    #print(a_bins.size())\n",
    "    x = sympy.symbols('x')\n",
    "    n0 = n_d/sympy.integrate((x/amin)**(-p),(x,amin,amax))\n",
    "    n_dist = (a_bins/amin)**(-p)\n",
    "    #integral = 0.5*np.sum((p_values[:1] + p_values[1:]) * (a_bins[1:] - a_bins[:1]))\n",
    "    #n_values = n_d * p_values/integral\n",
    "    # n_ism = n(a) da computed for ISM parameters\n",
    "\n",
    "    #n_ism = n_d * a_bins**(-p)\n",
    "    #nd_num =  #numerical integral over n(a)da\n",
    "    #nd_num = np.trapz(n_ism, a_bins)\n",
    "    return n_dist*n0\n",
    "\n",
    "def more_bins(n_bins=1000):#1000 is the default\n",
    "    amin = 0.005\n",
    "    amax = 1.0\n",
    "    p = 3.5\n",
    "    n_d = 1.0\n",
    "    a_bins = np.logspace(np.log10(amin),np.log(amax),n_bins)\n",
    "    n_dist = n_(a_bins,amin,amax,p,n_d)\n",
    "    return np.trapz(n_dist, a_bins)\n",
    " \n",
    "def linear_bins(n_bins=1000):#1000 is the default\n",
    "    amin = 0.005\n",
    "    amax = 1.0\n",
    "    p = 3.5\n",
    "    n_d = 1.0\n",
    "    a_bins = np.linspace(amin,amax,n_bins)\n",
    "    n_dist = n_(a_bins,amin,amax,p,n_d)\n",
    "    return np.trapz(n_dist, a_bins)\n",
    "\n",
    "#integral = 0.5*np.sum((p_values[:1] + p_values[1:]) * (a_bins[1:] - a_bins[:1]))\n",
    "\n",
    "\n",
    "# n_ism = n(a) da computed for ISM parameters\n",
    "\n",
    "#n_ism = n_d * a_values**(-p)\n",
    "#nd_num =  #numerical integral over n(a)da\n",
    "#nd_num = np.trapz(n, a_bins)\n",
    "\n",
    "#a_bins, n_values, n_ism, nd_num = n_(amin,amax,p,n_d)\n",
    "\n",
    "n_dist = n_(a_bins,amin,amax,p,n_d)\n",
    "#print(size(n))\n",
    "nd_num = np.trapz(n_dist, a_bins)\n",
    "\n",
    "print(n_d, nd_num)"
   ]
  },
  {
   "cell_type": "code",
   "execution_count": 53,
   "metadata": {},
   "outputs": [
    {
     "name": "stdout",
     "output_type": "stream",
     "text": [
      "1.01535828957026\n",
      "1.00376004442661\n",
      "1.00014797134674\n",
      "1.00003691859276\n",
      "1.00000147437858\n"
     ]
    }
   ],
   "source": [
    "#x = sympy.symbols('x')\n",
    "#print(sympy.integrate((x/amin)**p,(x,amin,amax)))\n",
    "print(more_bins(50))\n",
    "print(more_bins(100))\n",
    "print(more_bins(500))\n",
    "print(more_bins(1000))\n",
    "print(more_bins(5000))"
   ]
  },
  {
   "cell_type": "code",
   "execution_count": 54,
   "metadata": {},
   "outputs": [
    {
     "name": "stdout",
     "output_type": "stream",
     "text": [
      "5.11807622108996\n",
      "2.64735472502881\n",
      "1.10944848329763\n",
      "1.02848027621600\n",
      "1.00115473942392\n"
     ]
    }
   ],
   "source": [
    "print(linear_bins(50))\n",
    "print(linear_bins(100))\n",
    "print(linear_bins(500))\n",
    "print(linear_bins(1000))\n",
    "print(linear_bins(5000))"
   ]
  },
  {
   "cell_type": "markdown",
   "metadata": {},
   "source": [
    "<b>Answers:<b/>\n",
    "\n",
    "The error appears to be high until more points are added to the array, but decreases as the latter grows.\n",
    "\n",
    "It's better if (a) is logarithmically spaced."
   ]
  },
  {
   "cell_type": "markdown",
   "metadata": {},
   "source": [
    "### part b. \n",
    "Once you're happy with how things are looking in the above parts, write another function to use what you have so far to calculate the average size of a dust particle $<a>$ for some size distribution $n(a) da$ and use it calculate the mean size of the distribution in part a. \n",
    "\n"
   ]
  },
  {
   "cell_type": "code",
   "execution_count": 55,
   "metadata": {},
   "outputs": [
    {
     "name": "stdout",
     "output_type": "stream",
     "text": [
      "0.00832696015253350\n"
     ]
    }
   ],
   "source": [
    "# b). function to return mean size for a given size distribution\n",
    "\n",
    "n_ism = n_dist\n",
    "\n",
    "def mean_a(a_bins, n_dist):\n",
    "    \"\"\" function return the mean size of grains in given distribution \n",
    "    a_bins: array of sizes to compute over\n",
    "    n_dist: n(a) da computed over a_bins \"\"\"\n",
    "    # your function here\n",
    "    denominator = np.trapz(n_dist, a_bins)\n",
    "    new_array = n_dist*a_bins\n",
    "    numerator = np.trapz(new_array,a_bins)\n",
    "    weighted_average = numerator/denominator\n",
    "    return weighted_average\n",
    "\n",
    "a_bysize_ism = mean_a(a_bins,n_ism) # mean-size for computed ISM values\n",
    "print(a_bysize_ism)"
   ]
  },
  {
   "cell_type": "markdown",
   "metadata": {},
   "source": [
    "### c.\n",
    "Now calculate the mean mass of a particle for the same distribution, assuming that each dust particle is a sphere with radius $a$ and a material density of $\\rho_s = 3.3 \\mathrm{ \\ g \\ cm^{-3}}$. How does this compare to the mass of a hydrogen atom? What is the typical size of the average mass particle? \n",
    "\n"
   ]
  },
  {
   "cell_type": "code",
   "execution_count": 56,
   "metadata": {},
   "outputs": [
    {
     "name": "stdout",
     "output_type": "stream",
     "text": [
      "1.13e-16 g or 6.79e+7 hydrogen atoms\n",
      "0.0201706870116146\n"
     ]
    }
   ],
   "source": [
    "# c). mass distribution\n",
    "rho_s = 3.3 # material density of grains in g/cm^3\n",
    "def mean_m(a_bins,n_dist, rho_s = 3.3):\n",
    "    \"\"\" function to calculate the mean mass of a particle given \n",
    "    a_bins: array of sizes\n",
    "    n_dist: n(a)da computed over array of sizes\n",
    "    rho_s: material density of grains\n",
    "    \"\"\"\n",
    "    volume_abins = ((4.0/3.0)*np.pi*(a_bins**3))/(1.0e12)\n",
    "    mass = rho_s*volume_abins\n",
    "    new_array = n_dist*mass\n",
    "    numerator = np.trapz(new_array,a_bins)\n",
    "    denominator = np.trapz(n_dist,a_bins)\n",
    "    meanmass = numerator/denominator\n",
    "    \n",
    "    # your function here\n",
    "    return meanmass\n",
    "\n",
    "m_ave_ism = mean_m(a_bins,n_ism)\n",
    "mH = 1.67e-24 # mass of a hydrogen atom in grams\n",
    "\n",
    "print( r'{:.2e} g or {:.2e} hydrogen atoms'.format(m_ave_ism, m_ave_ism/mH))\n",
    "\n",
    "volume_m_ave_ism = m_ave_ism/rho_s\n",
    "a_bymass_ism = (volume_m_ave_ism/((4.0/3.0)*np.pi))**(1.0/3.0)\n",
    "\n",
    "# average size of the average mass grain \n",
    "print(a_bymass_ism*1.0e4)"
   ]
  },
  {
   "cell_type": "markdown",
   "metadata": {},
   "source": [
    "<b>Answers:</b>\n",
    "\n",
    "The mean mass of the particle is considerably higher than that of a hydrogen atom.\n",
    "\n",
    "The typical size of the average mass particle is 0.02 microns, as shown by a_mass_ism."
   ]
  },
  {
   "cell_type": "code",
   "execution_count": null,
   "metadata": {},
   "outputs": [],
   "source": []
  },
  {
   "cell_type": "code",
   "execution_count": null,
   "metadata": {},
   "outputs": [],
   "source": []
  },
  {
   "cell_type": "markdown",
   "metadata": {},
   "source": [
    "### d. \n",
    "So far, mathematically, we've essentially been treating the size distribution as a kind of probabibility density function. This means we can use a cumulative sum function to calculate the cumulative distribution function (CDF) from $a_{min}$ to $a_{max}$ of the cumulative number density distribution and the cumulative mass distribution. Make a plot of the cumulative fraction at each size by number ($F_{N}(<a)$) and by mass ($F_{M}(<a)$), annotating the sizes you calculated in part c and d on the plot. \n",
    "\n",
    "Recall: A CDF is normalized such that it goes from 0 to 1 across the range of its variable.\n",
    "\n",
    "Based on the ISM distribution, are most of the particles at smaller or larger sizes? Is most of the mass in particles at smaller or larger sizes?"
   ]
  },
  {
   "cell_type": "code",
   "execution_count": 59,
   "metadata": {},
   "outputs": [
    {
     "ename": "SyntaxError",
     "evalue": "invalid syntax (3668436000.py, line 4)",
     "output_type": "error",
     "traceback": [
      "\u001b[0;36m  Cell \u001b[0;32mIn[59], line 4\u001b[0;36m\u001b[0m\n\u001b[0;31m    CDF_M = #cumulative distribution function by mass\u001b[0m\n\u001b[0m            ^\u001b[0m\n\u001b[0;31mSyntaxError\u001b[0m\u001b[0;31m:\u001b[0m invalid syntax\n"
     ]
    }
   ],
   "source": [
    "da = np.gradient(a_bins)\n",
    "\n",
    "CDF_N = np.cumsum #thanks, https://numpy.org/doc/stable/reference/generated/numpy.cumsum.html! #cumulative distribution function by number\n",
    "CDF_M = #cumulative distribution function by mass\n",
    "\n",
    "f,ax=subplots(1,dpi=100)\n",
    "ax.plot(a_bins, CDF_N,lw=2,label=r'$F_N(>a)$',color='navy')\n",
    "ax.plot(a_bins, CDF_M,lw=2,label=r'$F_M(>a)$',color='maroon')\n",
    "ax.set_xscale('log')\n",
    "ax.axvline(a_bysize_ism,ls='dotted',color='gray',lw=1,label=r'$<a>_N =$ {:.1e} $\\mu$m'.format(a_bysize_ism))\n",
    "ax.axvline(a_bymass_ism,ls='dashed',color='gray',lw=1,label=r'$<a>_M =${:.1e} $\\mu$m'.format(a_bymass_ism))\n",
    "ax.set_xlabel(r'size - a [$\\mu m$]')\n",
    "ax.set_ylabel(r'CDF')\n",
    "ax.legend(loc=1)\n",
    "ax.set_title('CDF for ISM-like dust size distribution')"
   ]
  },
  {
   "cell_type": "code",
   "execution_count": 60,
   "metadata": {},
   "outputs": [
    {
     "ename": "NameError",
     "evalue": "name 'm_' is not defined",
     "output_type": "error",
     "traceback": [
      "\u001b[0;31m---------------------------------------------------------------------------\u001b[0m",
      "\u001b[0;31mNameError\u001b[0m                                 Traceback (most recent call last)",
      "Cell \u001b[0;32mIn[60], line 4\u001b[0m\n\u001b[1;32m      2\u001b[0m da \u001b[38;5;241m=\u001b[39m np\u001b[38;5;241m.\u001b[39mgradient(a_bins)\n\u001b[1;32m      3\u001b[0m CDF_N \u001b[38;5;241m=\u001b[39m np\u001b[38;5;241m.\u001b[39mcumsum(n_ism\u001b[38;5;241m*\u001b[39mda)\u001b[38;5;241m/\u001b[39mnp\u001b[38;5;241m.\u001b[39msum(n_ism\u001b[38;5;241m*\u001b[39mda)\n\u001b[0;32m----> 4\u001b[0m CDF_M \u001b[38;5;241m=\u001b[39m np\u001b[38;5;241m.\u001b[39mcumsum(m_(a_bins, n_ism)\u001b[38;5;241m*\u001b[39mda)\u001b[38;5;241m/\u001b[39mnp\u001b[38;5;241m.\u001b[39msum(m_(a_bins,n_ism)\u001b[38;5;241m*\u001b[39mda)\n\u001b[1;32m      6\u001b[0m f,ax\u001b[38;5;241m=\u001b[39msubplots(\u001b[38;5;241m1\u001b[39m,dpi\u001b[38;5;241m=\u001b[39m\u001b[38;5;241m100\u001b[39m)\n\u001b[1;32m      7\u001b[0m ax\u001b[38;5;241m.\u001b[39mplot(a_bins, CDF_N,lw\u001b[38;5;241m=\u001b[39m\u001b[38;5;241m2\u001b[39m,label\u001b[38;5;241m=\u001b[39m\u001b[38;5;124mr\u001b[39m\u001b[38;5;124m'\u001b[39m\u001b[38;5;124m$F_N(<a)$\u001b[39m\u001b[38;5;124m'\u001b[39m,color\u001b[38;5;241m=\u001b[39m\u001b[38;5;124m'\u001b[39m\u001b[38;5;124mnavy\u001b[39m\u001b[38;5;124m'\u001b[39m)\n",
      "\u001b[0;31mNameError\u001b[0m: name 'm_' is not defined"
     ]
    }
   ],
   "source": [
    "# d). CDF for F by number vs. F by mass\n",
    "da = np.gradient(a_bins)\n",
    "CDF_N = np.cumsum(n_ism*da)/np.sum(n_ism*da)\n",
    "CDF_M = np.cumsum(m_(a_bins, n_ism)*da)/np.sum(m_(a_bins,n_ism)*da)\n",
    "\n",
    "f,ax=subplots(1,dpi=100)\n",
    "ax.plot(a_bins, CDF_N,lw=2,label=r'$F_N(<a)$',color='navy')\n",
    "ax.plot(a_bins, CDF_M,lw=2,label=r'$F_M(<a)$',color='maroon')\n",
    "ax.set_xscale('log')\n",
    "ax.axvline(a_bysize_ism,ls='dotted',color='gray',lw=1,label=r'$<a>_N =$ {:.1e} $\\mu$m'.format(a_bysize_ism))\n",
    "ax.axvline(a_bymass_ism,ls='dashed',color='gray',lw=1,label=r'$<a>_M =${:.1e} $\\mu$m'.format(a_bymass_ism))\n",
    "ax.set_xlabel(r'size - a [$\\mu m$]')\n",
    "ax.set_ylabel(r'CDF')\n",
    "ax.legend(loc=1)\n",
    "ax.set_title('CDF for ISM-like dust size distribution')"
   ]
  },
  {
   "cell_type": "markdown",
   "metadata": {},
   "source": [
    "## II. Optical Properties\n",
    "Here we'll be using an open source code package called [optool](https://github.com/cdominik/optool/blob/master/UserGuide.pdf) to calculate the dust opacities of our dust grains using Mie Theory. *Note that if you are not using this notebook on the binder hub at CCA, you will need to install optool on our own machine using the installation instructions in the User Guide in order to run this part*\n",
    "\n",
    "### part a.\n",
    "We'll start by using `optool`'s python interface to initialize a particle object with an astrosilicate composition for a calculation with the default optical properties using Mie Theory for an ism-like distribution. We'll print the average size attribute of the optool particle object. It should match your answer for part Ib above. \n",
    "\n",
    "The information about dust model that `optool` can take as input are detailed in Section 4 of the linked manual. \n",
    "The output information that `optool` calculates is stored as attributes of the particle object, described in Section 7 of the manual. \n",
    "\n",
    "We are going to take the extinction opacity from the dust model and compare its shape to the measured average Milky Way extinction curve between 0.1 and 2.2 microns. \n",
    "\n",
    "For what wavelengths does this simple model capture the shape and behavior of the interstellar extinction curve the best?"
   ]
  },
  {
   "cell_type": "code",
   "execution_count": null,
   "metadata": {},
   "outputs": [],
   "source": []
  },
  {
   "cell_type": "code",
   "execution_count": null,
   "metadata": {},
   "outputs": [],
   "source": []
  },
  {
   "cell_type": "code",
   "execution_count": 4,
   "metadata": {},
   "outputs": [
    {
     "name": "stdout",
     "output_type": "stream",
     "text": [
      "Reading optool_tmp_output_dir_312560/dustkappa_001.dat ...\n",
      "Cleaning up temporary directory optool_tmp_output_dir_312560\n",
      "[0.0083304]\n"
     ]
    },
    {
     "data": {
      "text/plain": [
       "<matplotlib.legend.Legend at 0x7f95d37b04f0>"
      ]
     },
     "execution_count": 4,
     "metadata": {},
     "output_type": "execute_result"
    },
    {
     "data": {
      "image/png": "[encoded data removed]",
      "text/plain": [
       "<Figure size 600x400 with 1 Axes>"
      ]
     },
     "metadata": {
      "needs_background": "light"
     },
     "output_type": "display_data"
    }
   ],
   "source": [
    "import optool\n",
    "from astropy.io import fits\n",
    "\n",
    "amin = 0.005\n",
    "amax = 1\n",
    "p = 3.5\n",
    "\n",
    "#define the input command for optool\n",
    "cmd = \"optool {material} -mie -l 0.1 2.2 -a {amin} {amax} {p} 100 \".format(material='astrosil', amin=amin, amax= amax, p = p)\n",
    "\n",
    "#run optool with the input command in the python interface\n",
    "pism = optool.particle(cmd)\n",
    "\n",
    "#access the average size attribute for the input size distribution\n",
    "print(pism.a1)\n",
    "\n",
    "#wavelength and extinction opacities for the calculation\n",
    "wav_model = pism.lam # wavelength in microns\n",
    "kext_model = pism.kext.squeeze() # kappa_ext in g/cm^2\n",
    "\n",
    "#normalization factor so that kext = 1 at V band \n",
    "k_norm = kext_model[np.argmin(np.abs(wav_model-0.551))]\n",
    "kext_model /= k_norm\n",
    "\n",
    "#load in milky way extinction curve \n",
    "hdu1 = fits.open('milkyway_diffuse_001.fits')[1]\n",
    "wav_mw = 1./hdu1.data['WAVELENGTH'] #wavelength in microns\n",
    "Aext_mw = hdu1.data['Av/E(B-V)']/3.1 #A(wav)/A(V)\n",
    "\n",
    "#plot the model and the mw extinction curve\n",
    "f,ax = subplots(1,dpi=100)\n",
    "ax.plot(wav_model, kext_model,lw=2,label='dust model: $\\kappa(\\lambda)/\\kappa(V)$')\n",
    "ax.plot(wav_mw, Aext_mw,lw=2, label='MW ext.: $A(\\lambda)/A(V)$')\n",
    "ax.set_xlabel(r'$\\lambda$ [$\\mu$m]')\n",
    "ax.set_xscale('log')\n",
    "ax.set_ylabel('Extinction')\n",
    "ax.legend()"
   ]
  },
  {
   "cell_type": "code",
   "execution_count": null,
   "metadata": {},
   "outputs": [],
   "source": [
    "<"
   ]
  },
  {
   "cell_type": "code",
   "execution_count": null,
   "metadata": {},
   "outputs": [],
   "source": []
  },
  {
   "cell_type": "code",
   "execution_count": null,
   "metadata": {},
   "outputs": [],
   "source": []
  },
  {
   "cell_type": "markdown",
   "metadata": {},
   "source": [
    "<b> Answers: </b>\n",
    "\n",
    "The model appears to function better at longer wavelengths."
   ]
  },
  {
   "cell_type": "markdown",
   "metadata": {},
   "source": [
    "### part b.\n",
    "\n",
    "You'll notice that several features in the measured extinction curve are notably absent from the model. Using the procedure above for calculating model extinctions using `optool`, conduct a numerical experiment varying one variable at a time and generate different dust models to investigate how the features in the model extinction curve change for different values of:\n",
    "\n",
    "i) $a_{max}$\n",
    "\n",
    "ii) power-law index $p$\n",
    "\n",
    "iii) grain material compositions (you may want to add grain materials to the astrosilicate mix rather than changing the entire composition)\n",
    "\n",
    "the exact values you test are up to you, but bonus points for motivating your choices. Cite any references you use.\n",
    "\n",
    "Make a figure like the one in part IIa to show the results for the different dust models you test against the observed extinction and describe the behavior of the models with the different parameters. Based on your results, what kind of changes would allow the dust model to better capture the behavior/features in the interstellar extinction curve and why?\n"
   ]
  },
  {
   "cell_type": "code",
   "execution_count": 8,
   "metadata": {},
   "outputs": [
    {
     "data": {
      "image/png": "[encoded data removed]",
      "text/plain": [
       "<Figure size 600x400 with 3 Axes>"
      ]
     },
     "metadata": {
      "needs_background": "light"
     },
     "output_type": "display_data"
    }
   ],
   "source": [
    "f,row=subplots(1,3,constrained_layout=True,dpi=100,sharey=True,sharex=True)\n",
    "\n",
    "#fiducial values\n",
    "amin = 0.005\n",
    "amax = 1\n",
    "p = 3.5\n",
    "\n",
    "for ax in row:\n",
    "    ax.plot(wav_mw, Aext_mw,lw=2,color='black',label='MW ext.')\n",
    "    ax.set_xscale('log')\n",
    "    ax.set_xlabel(r'$\\lambda$ [$\\mu$m]')\n",
    "\n"
   ]
  },
  {
   "cell_type": "code",
   "execution_count": null,
   "metadata": {},
   "outputs": [],
   "source": []
  }
 ],
 "metadata": {
  "kernelspec": {
   "display_name": "Python [conda env:base] *",
   "language": "python",
   "name": "conda-base-py"
  },
  "language_info": {
   "codemirror_mode": {
    "name": "ipython",
    "version": 3
   },
   "file_extension": ".py",
   "mimetype": "text/x-python",
   "name": "python",
   "nbconvert_exporter": "python",
   "pygments_lexer": "ipython3",
   "version": "3.12.7"
  }
 },
 "nbformat": 4,
 "nbformat_minor": 4
}
